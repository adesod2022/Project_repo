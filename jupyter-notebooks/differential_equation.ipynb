{
  "cells": [
    {
      "cell_type": "code",
      "source": [
        "from google.colab import drive\n",
        "drive.mount('/content/drive')"
      ],
      "metadata": {
        "colab": {
          "base_uri": "https://localhost:8080/"
        },
        "id": "M2DUCxqmb26Y",
        "outputId": "daab6170-a697-48dc-83ab-e4fe21ae5773"
      },
      "execution_count": 1,
      "outputs": [
        {
          "output_type": "stream",
          "name": "stdout",
          "text": [
            "Mounted at /content/drive\n"
          ]
        }
      ]
    },
    {
      "cell_type": "code",
      "source": [
        "ls"
      ],
      "metadata": {
        "colab": {
          "base_uri": "https://localhost:8080/"
        },
        "id": "loAdfN3Xb4tt",
        "outputId": "d6a55f52-6737-4c2d-a1d2-535a9b09f7ed"
      },
      "execution_count": 2,
      "outputs": [
        {
          "output_type": "stream",
          "name": "stdout",
          "text": [
            "\u001b[0m\u001b[01;34mdrive\u001b[0m/  \u001b[01;34msample_data\u001b[0m/\n"
          ]
        }
      ]
    },
    {
      "cell_type": "code",
      "source": [
        "cd drive/"
      ],
      "metadata": {
        "colab": {
          "base_uri": "https://localhost:8080/"
        },
        "id": "RhKBC_TKb8P6",
        "outputId": "9692d4bb-9ae6-402f-879a-9c5d692d4f0c"
      },
      "execution_count": 3,
      "outputs": [
        {
          "output_type": "stream",
          "name": "stdout",
          "text": [
            "/content/drive\n"
          ]
        }
      ]
    },
    {
      "cell_type": "code",
      "source": [
        "ls"
      ],
      "metadata": {
        "colab": {
          "base_uri": "https://localhost:8080/"
        },
        "id": "kTLab87IcAgV",
        "outputId": "8a7fb8c0-a58a-4594-f4af-647de745b06c"
      },
      "execution_count": 4,
      "outputs": [
        {
          "output_type": "stream",
          "name": "stdout",
          "text": [
            "\u001b[0m\u001b[01;34mMyDrive\u001b[0m/\n"
          ]
        }
      ]
    },
    {
      "cell_type": "code",
      "source": [
        "cd MyDrive/"
      ],
      "metadata": {
        "colab": {
          "base_uri": "https://localhost:8080/"
        },
        "id": "HB6BMMmvcCvN",
        "outputId": "395deaf0-acec-4f84-cf5f-00c6eca4d6d8"
      },
      "execution_count": 5,
      "outputs": [
        {
          "output_type": "stream",
          "name": "stdout",
          "text": [
            "/content/drive/MyDrive\n"
          ]
        }
      ]
    },
    {
      "cell_type": "code",
      "source": [
        "ls"
      ],
      "metadata": {
        "colab": {
          "base_uri": "https://localhost:8080/"
        },
        "id": "nU6hvDZccEmA",
        "outputId": "96015ff0-39b5-443d-99c3-7c3e465cf0ce"
      },
      "execution_count": 6,
      "outputs": [
        {
          "output_type": "stream",
          "name": "stdout",
          "text": [
            "'A DIGITIZED TOOL FOR WELL CANDIDATE SELECTION FOR MATRIX ACIDIZING IN SANDSTONE RESERVOIR (1).docx'\n",
            "'A DIGITIZED TOOL FOR WELL CANDIDATE SELECTION FOR MATRIX ACIDIZING IN SANDSTONE RESERVOIR.docx'\n",
            "'A DIGITIZED TOOL FOR WELL CANDIDATE SELECTION FOR MATRIX ACIDIZING IN SANDSTONE RESERVOIR.pdf'\n",
            " \u001b[0m\u001b[01;34mcheckpoints\u001b[0m/\n",
            " \u001b[01;34mcleaned_data\u001b[0m/\n",
            "\u001b[01;34m'Colab Notebooks'\u001b[0m/\n",
            " \u001b[01;34mdeep-learning-articles\u001b[0m/\n",
            " \u001b[01;34mdeep-learning-symbolic-mathematics\u001b[0m/\n",
            "'external defence slide.pptx'\n",
            "'Getting started.pdf'\n",
            " IMG-20210412-WA0016.jpg\n",
            "'JULIET PROJECT FINAL SLIDE-1.pptx'\n",
            " \u001b[01;34mlogs\u001b[0m/\n",
            " ode1_test.txt\n",
            " ode1_valid.txt\n",
            " \u001b[01;34mSymbolicMathematics\u001b[0m/\n"
          ]
        }
      ]
    },
    {
      "cell_type": "code",
      "source": [
        "cd SymbolicMathematics/"
      ],
      "metadata": {
        "colab": {
          "base_uri": "https://localhost:8080/"
        },
        "id": "cyGVlGa2cFIy",
        "outputId": "a6375cdb-c0b8-4b09-c63d-ba30a391684f"
      },
      "execution_count": 7,
      "outputs": [
        {
          "output_type": "stream",
          "name": "stdout",
          "text": [
            "/content/drive/MyDrive/SymbolicMathematics\n"
          ]
        }
      ]
    },
    {
      "cell_type": "code",
      "source": [
        "ls"
      ],
      "metadata": {
        "colab": {
          "base_uri": "https://localhost:8080/"
        },
        "id": "A8hz8j_YcH_9",
        "outputId": "44478aed-cf41-4039-c343-9fd212cf9dda"
      },
      "execution_count": 8,
      "outputs": [
        {
          "output_type": "stream",
          "name": "stdout",
          "text": [
            "beam_integration.ipynb  CONTRIBUTING.md  main.py    split_data.py\n",
            "CODE_OF_CONDUCT.md      LICENSE          README.md  \u001b[0m\u001b[01;34msrc\u001b[0m/\n"
          ]
        }
      ]
    },
    {
      "cell_type": "code",
      "source": [],
      "metadata": {
        "id": "4jt0rlb9cI1x"
      },
      "execution_count": 8,
      "outputs": []
    },
    {
      "cell_type": "code",
      "execution_count": 10,
      "metadata": {
        "id": "DHc11jNKbvWA"
      },
      "outputs": [],
      "source": [
        "import os\n",
        "import numpy as np\n",
        "import sympy as sp\n",
        "import pandas as pd\n",
        "import torch\n",
        "\n",
        "from src.utils import AttrDict\n",
        "from src.envs import build_env\n",
        "from src.model import build_modules\n",
        "from src.envs.char_sp import InvalidPrefixExpression, ValueErrorExpression\n",
        "\n",
        "from src.utils import to_cuda\n",
        "from src.envs.sympy_utils import simplify"
      ]
    },
    {
      "cell_type": "markdown",
      "metadata": {
        "id": "FI2x5AAsbvWD"
      },
      "source": [
        "## Build environment / Reload model"
      ]
    },
    {
      "cell_type": "code",
      "execution_count": 11,
      "metadata": {
        "id": "ugL3Wy3WbvWE"
      },
      "outputs": [],
      "source": [
        "# trained model, e.g. \"wget https://dl.fbaipublicfiles.com/SymbolicMathematics/models/fwd_bwd.pth\"\n",
        "model_path = '../deep-learning-symbolic-mathematics/models/differential-equations/ode1.pth'\n",
        "assert os.path.isfile(model_path)"
      ]
    },
    {
      "cell_type": "code",
      "execution_count": 12,
      "metadata": {
        "id": "Bm2M7PnjbvWE"
      },
      "outputs": [],
      "source": [
        "params = params = AttrDict({\n",
        "\n",
        "    # environment parameters\n",
        "    'env_name': 'char_sp',\n",
        "    'int_base': 10,\n",
        "    'balanced': False,\n",
        "    'positive': True,\n",
        "    'precision': 10,\n",
        "    'n_variables': 1,\n",
        "    'n_coefficients': 0,\n",
        "    'leaf_probs': '0.75,0,0.25,0',\n",
        "    'max_len': 512,\n",
        "    'max_int': 5,\n",
        "    'max_ops': 15,\n",
        "    'max_ops_G': 15,\n",
        "    'clean_prefix_expr': True,\n",
        "    'rewrite_functions': '',\n",
        "    'tasks': 'ode1',\n",
        "    'operators': 'add:10,sub:3,mul:10,div:5,sqrt:4,pow2:4,pow3:2,pow4:1,pow5:1,ln:4,exp:4,sin:4,cos:4,tan:4,asin:1,acos:1,atan:1,sinh:1,cosh:1,tanh:1,asinh:1,acosh:1,atanh:1',\n",
        "\n",
        "    # model parameters\n",
        "    'cpu': False,\n",
        "    'emb_dim': 1024,\n",
        "    'n_enc_layers': 6,\n",
        "    'n_dec_layers': 6,\n",
        "    'n_heads': 8,\n",
        "    'dropout': 0,\n",
        "    'attention_dropout': 0,\n",
        "    'sinusoidal_embeddings': False,\n",
        "    'share_inout_emb': True,\n",
        "    'reload_model': model_path,\n",
        "\n",
        "})"
      ]
    },
    {
      "cell_type": "code",
      "execution_count": 13,
      "metadata": {
        "id": "efV2navHbvWF"
      },
      "outputs": [],
      "source": [
        "env = build_env(params)\n",
        "x = env.local_dict['x']\n",
        "c = sp.Symbol('c')\n",
        "f = env.local_dict['f']"
      ]
    },
    {
      "cell_type": "code",
      "execution_count": 14,
      "metadata": {
        "id": "hddtYutwbvWG"
      },
      "outputs": [],
      "source": [
        "modules = build_modules(env, params)\n",
        "encoder = modules['encoder']\n",
        "decoder = modules['decoder']"
      ]
    },
    {
      "cell_type": "markdown",
      "metadata": {
        "id": "TpFAhUvgbvWH"
      },
      "source": [
        "## Start from a function F, compute its derivative f = F', and try to recover F from f"
      ]
    },
    {
      "cell_type": "code",
      "execution_count": 22,
      "metadata": {
        "id": "IddYbUJvbvWH"
      },
      "outputs": [],
      "source": [
        "# here you can modify the integral function the model has to predict, F\n",
        "F_infix = '5+((x*(x**(-1)))+(cos(sinh(tanh(x)))))'"
      ]
    },
    {
      "cell_type": "code",
      "execution_count": 23,
      "metadata": {
        "colab": {
          "base_uri": "https://localhost:8080/",
          "height": 38
        },
        "id": "wNnI7QGIbvWI",
        "outputId": "b0522238-717a-4ef5-cfb2-eb9e147443ce"
      },
      "outputs": [
        {
          "output_type": "execute_result",
          "data": {
            "text/plain": [
              "cos(sinh(tanh(x))) + 6"
            ],
            "text/latex": "$\\displaystyle \\cos{\\left(\\sinh{\\left(\\tanh{\\left(x \\right)} \\right)} \\right)} + 6$"
          },
          "metadata": {},
          "execution_count": 23
        }
      ],
      "source": [
        "# F (integral, that the model will try to predict)\n",
        "F = sp.S(F_infix, locals=env.local_dict)\n",
        "F"
      ]
    },
    {
      "cell_type": "code",
      "execution_count": 24,
      "metadata": {
        "colab": {
          "base_uri": "https://localhost:8080/",
          "height": 39
        },
        "id": "-Ek6K-fnbvWI",
        "outputId": "f6bb6893-41a8-4997-c920-15d6faf89bae"
      },
      "outputs": [
        {
          "output_type": "execute_result",
          "data": {
            "text/plain": [
              "-(1 - tanh(x)**2)*sin(sinh(tanh(x)))*cosh(tanh(x))"
            ],
            "text/latex": "$\\displaystyle - \\left(1 - \\tanh^{2}{\\left(x \\right)}\\right) \\sin{\\left(\\sinh{\\left(\\tanh{\\left(x \\right)} \\right)} \\right)} \\cosh{\\left(\\tanh{\\left(x \\right)} \\right)}$"
          },
          "metadata": {},
          "execution_count": 24
        }
      ],
      "source": [
        "# f (F', that the model will take as input)\n",
        "f = F.diff(x)\n",
        "f"
      ]
    },
    {
      "cell_type": "markdown",
      "metadata": {
        "id": "quefJ5ubbvWI"
      },
      "source": [
        "### Compute prefix representations"
      ]
    },
    {
      "cell_type": "code",
      "execution_count": 25,
      "metadata": {
        "scrolled": true,
        "colab": {
          "base_uri": "https://localhost:8080/"
        },
        "id": "KsBMNUF7bvWJ",
        "outputId": "039701aa-13e2-4d1c-8dd6-c7fbb60c7474"
      },
      "outputs": [
        {
          "output_type": "stream",
          "name": "stdout",
          "text": [
            "F prefix: ['add', 'INT+', '6', 'cos', 'sinh', 'tanh', 'x']\n",
            "f prefix: ['mul', 'INT-', '1', 'mul', 'add', 'INT+', '1', 'mul', 'INT-', '1', 'pow', 'tanh', 'x', 'INT+', '2', 'mul', 'cosh', 'tanh', 'x', 'sin', 'sinh', 'tanh', 'x']\n"
          ]
        }
      ],
      "source": [
        "F_prefix = env.sympy_to_prefix(F)\n",
        "f_prefix = env.sympy_to_prefix(f)\n",
        "print(f\"F prefix: {F_prefix}\")\n",
        "print(f\"f prefix: {f_prefix}\")"
      ]
    },
    {
      "cell_type": "markdown",
      "metadata": {
        "id": "Aj1_HlKDbvWJ"
      },
      "source": [
        "### Encode input"
      ]
    },
    {
      "cell_type": "code",
      "execution_count": 26,
      "metadata": {
        "id": "zh6mFpCCbvWJ"
      },
      "outputs": [],
      "source": [
        "x1_prefix = env.clean_prefix(['sub', 'derivative', 'f', 'x', 'x'] + f_prefix)\n",
        "x1 = torch.LongTensor(\n",
        "    [env.eos_index] +\n",
        "    [env.word2id[w] for w in x1_prefix] +\n",
        "    [env.eos_index]\n",
        ").view(-1, 1)\n",
        "len1 = torch.LongTensor([len(x1)])\n",
        "x1, len1 = to_cuda(x1, len1)\n",
        "\n",
        "with torch.no_grad():\n",
        "    encoded = encoder('fwd', x=x1, lengths=len1, causal=False).transpose(0, 1)"
      ]
    },
    {
      "cell_type": "markdown",
      "metadata": {
        "id": "3-fdhYLPbvWK"
      },
      "source": [
        "### Decode with beam search"
      ]
    },
    {
      "cell_type": "code",
      "execution_count": 27,
      "metadata": {
        "id": "mRpW-uJ2bvWK"
      },
      "outputs": [],
      "source": [
        "beam_size = 10\n",
        "with torch.no_grad():\n",
        "    _, _, beam = decoder.generate_beam(encoded, len1, beam_size=beam_size, length_penalty=1.0, early_stopping=1, max_len=200)\n",
        "    assert len(beam) == 1\n",
        "hypotheses = beam[0].hyp\n",
        "assert len(hypotheses) == beam_size"
      ]
    },
    {
      "cell_type": "markdown",
      "metadata": {
        "id": "h_gkmke5bvWK"
      },
      "source": [
        "### Print results"
      ]
    },
    {
      "cell_type": "code",
      "source": [
        "rows = np.arange(1, beam_size + 1)\n",
        "columns = ['Score', 'Solution Hypothesis', 'Valid']\n",
        "results = []\n",
        "\n",
        "for score, sequence in sorted(hypotheses, reverse=True):\n",
        "    # Parse decoded hypothesis\n",
        "    ids = sequence[1:].tolist()  # Decoded token IDs\n",
        "    hyp_prefix = [env.id2word[word_id] for word_id in ids]  # Convert to prefix notation\n",
        "\n",
        "    try:\n",
        "        hyp_infix = env.prefix_to_infix(hyp_prefix)  # Convert to infix notation\n",
        "        hyp_sympy = env.infix_to_sympy(hyp_infix)  # Convert to SymPy\n",
        "\n",
        "        # Check if the hypothesis is a valid solution, replacing 'hyp_sympy' with 'f(x)' in the equation\n",
        "        validation = \"YES\" if simplify(diff_eq_sympy.subs(f(x), hyp_sympy).doit(), seconds=1) == 0 else \"NO\"\n",
        "\n",
        "        # Transform hypothesis to a valid latex expression\n",
        "        hyp_expr = \"$\" + sp.latex(env.infix_to_sympy(hyp_infix)) + \"$\"\n",
        "\n",
        "    except (InvalidPrefixExpression, ValueErrorExpression):\n",
        "        validation = \"INVALID PREFIX EXPRESSION\"\n",
        "        hyp_expr = hyp_prefix\n",
        "\n",
        "    # Prepare results\n",
        "    results.append([score, hyp_expr, validation])"
      ],
      "metadata": {
        "id": "ahYLMF8nfrNU",
        "colab": {
          "base_uri": "https://localhost:8080/",
          "height": 235
        },
        "outputId": "1d419653-bc48-4bb8-afab-2f14b2c4f048"
      },
      "execution_count": 28,
      "outputs": [
        {
          "output_type": "error",
          "ename": "NameError",
          "evalue": "ignored",
          "traceback": [
            "\u001b[0;31m---------------------------------------------------------------------------\u001b[0m",
            "\u001b[0;31mNameError\u001b[0m                                 Traceback (most recent call last)",
            "\u001b[0;32m<ipython-input-28-df3dd28f05fc>\u001b[0m in \u001b[0;36m<module>\u001b[0;34m\u001b[0m\n\u001b[1;32m     13\u001b[0m \u001b[0;34m\u001b[0m\u001b[0m\n\u001b[1;32m     14\u001b[0m         \u001b[0;31m# Check if the hypothesis is a valid solution, replacing 'hyp_sympy' with 'f(x)' in the equation\u001b[0m\u001b[0;34m\u001b[0m\u001b[0;34m\u001b[0m\u001b[0;34m\u001b[0m\u001b[0m\n\u001b[0;32m---> 15\u001b[0;31m         \u001b[0mvalidation\u001b[0m \u001b[0;34m=\u001b[0m \u001b[0;34m\"YES\"\u001b[0m \u001b[0;32mif\u001b[0m \u001b[0msimplify\u001b[0m\u001b[0;34m(\u001b[0m\u001b[0mdiff_eq_sympy\u001b[0m\u001b[0;34m.\u001b[0m\u001b[0msubs\u001b[0m\u001b[0;34m(\u001b[0m\u001b[0mf\u001b[0m\u001b[0;34m(\u001b[0m\u001b[0mx\u001b[0m\u001b[0;34m)\u001b[0m\u001b[0;34m,\u001b[0m \u001b[0mhyp_sympy\u001b[0m\u001b[0;34m)\u001b[0m\u001b[0;34m.\u001b[0m\u001b[0mdoit\u001b[0m\u001b[0;34m(\u001b[0m\u001b[0;34m)\u001b[0m\u001b[0;34m,\u001b[0m \u001b[0mseconds\u001b[0m\u001b[0;34m=\u001b[0m\u001b[0;36m1\u001b[0m\u001b[0;34m)\u001b[0m \u001b[0;34m==\u001b[0m \u001b[0;36m0\u001b[0m \u001b[0;32melse\u001b[0m \u001b[0;34m\"NO\"\u001b[0m\u001b[0;34m\u001b[0m\u001b[0;34m\u001b[0m\u001b[0m\n\u001b[0m\u001b[1;32m     16\u001b[0m \u001b[0;34m\u001b[0m\u001b[0m\n\u001b[1;32m     17\u001b[0m         \u001b[0;31m# Transform hypothesis to a valid latex expression\u001b[0m\u001b[0;34m\u001b[0m\u001b[0;34m\u001b[0m\u001b[0;34m\u001b[0m\u001b[0m\n",
            "\u001b[0;31mNameError\u001b[0m: name 'diff_eq_sympy' is not defined"
          ]
        }
      ]
    },
    {
      "cell_type": "code",
      "execution_count": 58,
      "metadata": {
        "scrolled": false,
        "colab": {
          "base_uri": "https://localhost:8080/"
        },
        "id": "JmamoUYsbvWK",
        "outputId": "7b2f2a77-5a3d-4125-9dfa-13a7ad90cd7f"
      },
      "outputs": [
        {
          "output_type": "stream",
          "name": "stdout",
          "text": [
            "Input function f: -(1 - tanh(x)**2)*sin(sinh(tanh(x)))*cosh(tanh(x))\n",
            "Reference function F: cos(sinh(tanh(x))) + 6\n",
            "\n",
            "-0.00289  Vaild  a8 + cos(sinh(tanh(x)))\n",
            "-0.42794  Invalid  a8 - cos(sinh(tanh(x)))\n",
            "-0.44621  Vaild  cos(sinh(tanh(x))) + (a8*x + x)/x\n",
            "-0.49017  Vaild  (a8*x + x*cos(sinh(tanh(x))))/x\n",
            "-0.49400  Vaild  (a8*x + x*cos(sinh(tanh(x))) + x)/x\n",
            "-0.49610  Vaild  (x*(a8 + cos(sinh(tanh(x)))) + x)/x\n",
            "-0.54927  Vaild  a8 + (x*cos(sinh(tanh(x))) + x)/x\n",
            "-0.85062  Vaild  log(a8*exp(cos(sinh(tanh(x)))))\n",
            "-0.93644  Vaild  atan(tan(a8 + cos(sinh(tanh(x)))))\n",
            "-1.21231  Invalid  a8 + cos(tanh(tanh(x)))\n"
          ]
        }
      ],
      "source": [
        "print(f\"Input function f: {f}\")\n",
        "print(f\"Reference function F: {F}\")\n",
        "print(\"\")\n",
        "\n",
        "scores = []\n",
        "sol = []\n",
        "Val = []\n",
        "\n",
        "for score, sent in sorted(hypotheses, key=lambda x: x[0], reverse=True):\n",
        "\n",
        "    # parse decoded hypothesis\n",
        "    ids = sent[1:].tolist()                  # decoded token IDs\n",
        "    tok = [env.id2word[wid] for wid in ids]  # convert to prefix\n",
        "\n",
        "    try:\n",
        "        hyp = env.prefix_to_infix(tok)       # convert to infix\n",
        "        hyp = env.infix_to_sympy(hyp)        # convert to SymPy\n",
        "\n",
        "        # check whether we recover f if we differentiate the hypothesis\n",
        "        # note that sometimes, SymPy fails to show that hyp' - f == 0, and the result is considered as invalid, although it may be correct\n",
        "        res = \"Vaild\" if simplify(hyp.diff(x) - f, seconds=1) == 0 else \"Invalid\"\n",
        "        \n",
        "\n",
        "    except:\n",
        "        res = \"INVALID PREFIX EXPRESSION\"\n",
        "        hyp = tok\n",
        "    sol.append(hyp)\n",
        "    Val.append(res)\n",
        "    scores.append(score)\n",
        "    # print result\n",
        "    print(\"%.5f  %s  %s\" % (score, res, hyp))\n",
        "    \n",
        "  "
      ]
    },
    {
      "cell_type": "code",
      "source": [
        "result = {'Score':scores, 'Valid':Val, 'Solution_Hypothesis':sol}\n",
        "result = pd.DataFrame(result)"
      ],
      "metadata": {
        "id": "R6uiUitr133L"
      },
      "execution_count": 59,
      "outputs": []
    },
    {
      "cell_type": "code",
      "source": [
        "result"
      ],
      "metadata": {
        "colab": {
          "base_uri": "https://localhost:8080/",
          "height": 363
        },
        "id": "4gRZojWsX5Ln",
        "outputId": "6351cf87-7d00-47da-fafd-a91ad327f5ec"
      },
      "execution_count": 60,
      "outputs": [
        {
          "output_type": "execute_result",
          "data": {
            "text/plain": [
              "      Score    Valid                  Solution_Hypothesis\n",
              "0 -0.002887    Vaild              a8 + cos(sinh(tanh(x)))\n",
              "1 -0.427942  Invalid              a8 - cos(sinh(tanh(x)))\n",
              "2 -0.446214    Vaild    cos(sinh(tanh(x))) + (a8*x + x)/x\n",
              "3 -0.490169    Vaild      (a8*x + x*cos(sinh(tanh(x))))/x\n",
              "4 -0.493999    Vaild  (a8*x + x*cos(sinh(tanh(x))) + x)/x\n",
              "5 -0.496102    Vaild  (x*(a8 + cos(sinh(tanh(x)))) + x)/x\n",
              "6 -0.549266    Vaild    a8 + (x*cos(sinh(tanh(x))) + x)/x\n",
              "7 -0.850619    Vaild      log(a8*exp(cos(sinh(tanh(x)))))\n",
              "8 -0.936439    Vaild   atan(tan(a8 + cos(sinh(tanh(x)))))\n",
              "9 -1.212310  Invalid              a8 + cos(tanh(tanh(x)))"
            ],
            "text/html": [
              "\n",
              "  <div id=\"df-11048ba9-372b-4f62-a1a9-7aa0304e37c4\">\n",
              "    <div class=\"colab-df-container\">\n",
              "      <div>\n",
              "<style scoped>\n",
              "    .dataframe tbody tr th:only-of-type {\n",
              "        vertical-align: middle;\n",
              "    }\n",
              "\n",
              "    .dataframe tbody tr th {\n",
              "        vertical-align: top;\n",
              "    }\n",
              "\n",
              "    .dataframe thead th {\n",
              "        text-align: right;\n",
              "    }\n",
              "</style>\n",
              "<table border=\"1\" class=\"dataframe\">\n",
              "  <thead>\n",
              "    <tr style=\"text-align: right;\">\n",
              "      <th></th>\n",
              "      <th>Score</th>\n",
              "      <th>Valid</th>\n",
              "      <th>Solution_Hypothesis</th>\n",
              "    </tr>\n",
              "  </thead>\n",
              "  <tbody>\n",
              "    <tr>\n",
              "      <th>0</th>\n",
              "      <td>-0.002887</td>\n",
              "      <td>Vaild</td>\n",
              "      <td>a8 + cos(sinh(tanh(x)))</td>\n",
              "    </tr>\n",
              "    <tr>\n",
              "      <th>1</th>\n",
              "      <td>-0.427942</td>\n",
              "      <td>Invalid</td>\n",
              "      <td>a8 - cos(sinh(tanh(x)))</td>\n",
              "    </tr>\n",
              "    <tr>\n",
              "      <th>2</th>\n",
              "      <td>-0.446214</td>\n",
              "      <td>Vaild</td>\n",
              "      <td>cos(sinh(tanh(x))) + (a8*x + x)/x</td>\n",
              "    </tr>\n",
              "    <tr>\n",
              "      <th>3</th>\n",
              "      <td>-0.490169</td>\n",
              "      <td>Vaild</td>\n",
              "      <td>(a8*x + x*cos(sinh(tanh(x))))/x</td>\n",
              "    </tr>\n",
              "    <tr>\n",
              "      <th>4</th>\n",
              "      <td>-0.493999</td>\n",
              "      <td>Vaild</td>\n",
              "      <td>(a8*x + x*cos(sinh(tanh(x))) + x)/x</td>\n",
              "    </tr>\n",
              "    <tr>\n",
              "      <th>5</th>\n",
              "      <td>-0.496102</td>\n",
              "      <td>Vaild</td>\n",
              "      <td>(x*(a8 + cos(sinh(tanh(x)))) + x)/x</td>\n",
              "    </tr>\n",
              "    <tr>\n",
              "      <th>6</th>\n",
              "      <td>-0.549266</td>\n",
              "      <td>Vaild</td>\n",
              "      <td>a8 + (x*cos(sinh(tanh(x))) + x)/x</td>\n",
              "    </tr>\n",
              "    <tr>\n",
              "      <th>7</th>\n",
              "      <td>-0.850619</td>\n",
              "      <td>Vaild</td>\n",
              "      <td>log(a8*exp(cos(sinh(tanh(x)))))</td>\n",
              "    </tr>\n",
              "    <tr>\n",
              "      <th>8</th>\n",
              "      <td>-0.936439</td>\n",
              "      <td>Vaild</td>\n",
              "      <td>atan(tan(a8 + cos(sinh(tanh(x)))))</td>\n",
              "    </tr>\n",
              "    <tr>\n",
              "      <th>9</th>\n",
              "      <td>-1.212310</td>\n",
              "      <td>Invalid</td>\n",
              "      <td>a8 + cos(tanh(tanh(x)))</td>\n",
              "    </tr>\n",
              "  </tbody>\n",
              "</table>\n",
              "</div>\n",
              "      <button class=\"colab-df-convert\" onclick=\"convertToInteractive('df-11048ba9-372b-4f62-a1a9-7aa0304e37c4')\"\n",
              "              title=\"Convert this dataframe to an interactive table.\"\n",
              "              style=\"display:none;\">\n",
              "        \n",
              "  <svg xmlns=\"http://www.w3.org/2000/svg\" height=\"24px\"viewBox=\"0 0 24 24\"\n",
              "       width=\"24px\">\n",
              "    <path d=\"M0 0h24v24H0V0z\" fill=\"none\"/>\n",
              "    <path d=\"M18.56 5.44l.94 2.06.94-2.06 2.06-.94-2.06-.94-.94-2.06-.94 2.06-2.06.94zm-11 1L8.5 8.5l.94-2.06 2.06-.94-2.06-.94L8.5 2.5l-.94 2.06-2.06.94zm10 10l.94 2.06.94-2.06 2.06-.94-2.06-.94-.94-2.06-.94 2.06-2.06.94z\"/><path d=\"M17.41 7.96l-1.37-1.37c-.4-.4-.92-.59-1.43-.59-.52 0-1.04.2-1.43.59L10.3 9.45l-7.72 7.72c-.78.78-.78 2.05 0 2.83L4 21.41c.39.39.9.59 1.41.59.51 0 1.02-.2 1.41-.59l7.78-7.78 2.81-2.81c.8-.78.8-2.07 0-2.86zM5.41 20L4 18.59l7.72-7.72 1.47 1.35L5.41 20z\"/>\n",
              "  </svg>\n",
              "      </button>\n",
              "      \n",
              "  <style>\n",
              "    .colab-df-container {\n",
              "      display:flex;\n",
              "      flex-wrap:wrap;\n",
              "      gap: 12px;\n",
              "    }\n",
              "\n",
              "    .colab-df-convert {\n",
              "      background-color: #E8F0FE;\n",
              "      border: none;\n",
              "      border-radius: 50%;\n",
              "      cursor: pointer;\n",
              "      display: none;\n",
              "      fill: #1967D2;\n",
              "      height: 32px;\n",
              "      padding: 0 0 0 0;\n",
              "      width: 32px;\n",
              "    }\n",
              "\n",
              "    .colab-df-convert:hover {\n",
              "      background-color: #E2EBFA;\n",
              "      box-shadow: 0px 1px 2px rgba(60, 64, 67, 0.3), 0px 1px 3px 1px rgba(60, 64, 67, 0.15);\n",
              "      fill: #174EA6;\n",
              "    }\n",
              "\n",
              "    [theme=dark] .colab-df-convert {\n",
              "      background-color: #3B4455;\n",
              "      fill: #D2E3FC;\n",
              "    }\n",
              "\n",
              "    [theme=dark] .colab-df-convert:hover {\n",
              "      background-color: #434B5C;\n",
              "      box-shadow: 0px 1px 3px 1px rgba(0, 0, 0, 0.15);\n",
              "      filter: drop-shadow(0px 1px 2px rgba(0, 0, 0, 0.3));\n",
              "      fill: #FFFFFF;\n",
              "    }\n",
              "  </style>\n",
              "\n",
              "      <script>\n",
              "        const buttonEl =\n",
              "          document.querySelector('#df-11048ba9-372b-4f62-a1a9-7aa0304e37c4 button.colab-df-convert');\n",
              "        buttonEl.style.display =\n",
              "          google.colab.kernel.accessAllowed ? 'block' : 'none';\n",
              "\n",
              "        async function convertToInteractive(key) {\n",
              "          const element = document.querySelector('#df-11048ba9-372b-4f62-a1a9-7aa0304e37c4');\n",
              "          const dataTable =\n",
              "            await google.colab.kernel.invokeFunction('convertToInteractive',\n",
              "                                                     [key], {});\n",
              "          if (!dataTable) return;\n",
              "\n",
              "          const docLinkHtml = 'Like what you see? Visit the ' +\n",
              "            '<a target=\"_blank\" href=https://colab.research.google.com/notebooks/data_table.ipynb>data table notebook</a>'\n",
              "            + ' to learn more about interactive tables.';\n",
              "          element.innerHTML = '';\n",
              "          dataTable['output_type'] = 'display_data';\n",
              "          await google.colab.output.renderOutput(dataTable, element);\n",
              "          const docLink = document.createElement('div');\n",
              "          docLink.innerHTML = docLinkHtml;\n",
              "          element.appendChild(docLink);\n",
              "        }\n",
              "      </script>\n",
              "    </div>\n",
              "  </div>\n",
              "  "
            ]
          },
          "metadata": {},
          "execution_count": 60
        }
      ]
    }
  ],
  "metadata": {
    "kernelspec": {
      "display_name": "Python 3.9  (pytorch)",
      "language": "python",
      "name": "pytorch"
    },
    "language_info": {
      "codemirror_mode": {
        "name": "ipython",
        "version": 3
      },
      "file_extension": ".py",
      "mimetype": "text/x-python",
      "name": "python",
      "nbconvert_exporter": "python",
      "pygments_lexer": "ipython3",
      "version": "3.9.12"
    },
    "colab": {
      "provenance": [],
      "collapsed_sections": []
    },
    "accelerator": "GPU",
    "gpuClass": "standard"
  },
  "nbformat": 4,
  "nbformat_minor": 0
}